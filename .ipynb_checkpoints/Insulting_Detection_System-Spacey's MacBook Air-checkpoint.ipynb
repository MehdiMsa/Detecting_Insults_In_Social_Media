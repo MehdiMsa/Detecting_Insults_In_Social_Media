{
 "cells": [
  {
   "cell_type": "markdown",
   "id": "5d0f53e7",
   "metadata": {},
   "source": [
    "# Title: Detecting Insults in Social Media"
   ]
  },
  {
   "cell_type": "markdown",
   "id": "871e45a4",
   "metadata": {},
   "source": [
    "### Description\n",
    "\n",
    "\n",
    "This project aims to identify and analyze insulting remarks in social media posts. It leverages various data analytics and machine learning tools to process and analyze social media data, focusing on detecting insults to mitigate online harassment and create a safer, more inclusive online environment."
   ]
  },
  {
   "cell_type": "markdown",
   "id": "38471b96",
   "metadata": {},
   "source": [
    "### Business Understanding:\n",
    "#### Problem Statement:\n",
    "Online platforms are grappling with a significant amount of harmful content, especially insults, which contributes to a toxic environment, causing mental distress and discouraging users from participating in online communities.\n",
    "\n",
    "#### Objective:\n",
    "To create a data-driven model that can automatically detect and potentially filter or flag insulting remarks in social media posts, helping platforms maintain a healthier online atmosphere.\n",
    "\n",
    "#### Impact:\n",
    "An effective model could significantly reduce manual moderation workload, create a safer online space, encourage positive interactions, and retain users who might otherwise leave due to negative experiences."
   ]
  },
  {
   "cell_type": "markdown",
   "id": "4cb26806",
   "metadata": {},
   "source": [
    "### Data Understanding:\n",
    "#### Source:\n",
    "Teams given dataset from kaggle\n",
    "\n",
    "#### Nature of Data:\n",
    "\n",
    "Textual data (social media posts) that may range from short tweets to lengthy blog posts or comments.\n",
    "Possible presence of slang, abbreviations, emojis, and misspellings, which are common in informal communication.\n",
    "Potential Features:\n",
    "\n",
    " **user_id**: An identifier for the user making the post.\n",
    "##### - post_date: The date and time when the post was made.\n",
    "##### - post_content: The actual textual content of the post.\n",
    "##### - insult: A binary indicator (0 or 1) signifying whether the post is insulting or not."
   ]
  },
  {
   "cell_type": "markdown",
   "id": "0ceaecc0",
   "metadata": {},
   "source": [
    "## Objectives\n",
    "1. Develop a model to accurately identify insulting remarks in social media posts.\n",
    "2. Understand the common patterns and trends in insulting remarks.\n",
    "3. Evaluate the performance of the model and improve it for better accuracy and efficiency.\n"
   ]
  },
  {
   "cell_type": "markdown",
   "id": "fb30a44a",
   "metadata": {},
   "source": [
    "## Progress\n",
    "- [x] Initial setup of the repository and creation of README\n",
    "- [x] Data Collection and Preprocessing ( in progress )\n",
    "- [ ] Exploratory Data Analysis (EDA)\n",
    "- [ ] Feature Engineering\n",
    "- [ ] Model Development\n",
    "- [ ] Model Evaluation\n",
    "- [ ] Deployment (if applicable)\n"
   ]
  },
  {
   "cell_type": "markdown",
   "id": "727a82e9",
   "metadata": {},
   "source": [
    "## Repository\n",
    "[Detecting_Insults_In_Social_Media](https://github.com/MehdiMsa/Detecting_Insults_In_Social_Media)"
   ]
  },
  {
   "cell_type": "markdown",
   "id": "591b6f08",
   "metadata": {},
   "source": [
    "## Contributors\n",
    "- Mehdi M'sallem\n",
    "- Emir Aissa"
   ]
  },
  {
   "cell_type": "markdown",
   "id": "306e0040",
   "metadata": {},
   "source": [
    "### Imports & Libraries used:"
   ]
  },
  {
   "cell_type": "code",
   "execution_count": 1,
   "id": "027a66be",
   "metadata": {},
   "outputs": [],
   "source": [
    "from wordcloud import WordCloud, STOPWORDS, ImageColorGenerator\n",
    "from nltk.tokenize import word_tokenize\n",
    "from nltk.corpus import stopwords\n",
    "from datetime import datetime\n",
    "import seaborn as sns\n",
    "import pandas as pd\n",
    "import numpy as np\n",
    "import matplotlib.pyplot as plt\n",
    "import codecs\n",
    "import nltk"
   ]
  },
  {
   "cell_type": "markdown",
   "id": "9ea4077c",
   "metadata": {},
   "source": [
    "### Load Data:"
   ]
  },
  {
   "cell_type": "code",
   "execution_count": 2,
   "id": "95705eae",
   "metadata": {},
   "outputs": [
    {
     "name": "stdout",
     "output_type": "stream",
     "text": [
      "Index(['id', 'Insult', 'Date', 'Comment', 'Usage'], dtype='object')\n"
     ]
    }
   ],
   "source": [
    "# Load the Dataset\n",
    "data = pd.read_csv('dataset.csv')\n",
    "\n",
    "# Display the columns used\n",
    "print(data.columns)"
   ]
  },
  {
   "cell_type": "code",
   "execution_count": 3,
   "id": "5b92f0a1",
   "metadata": {},
   "outputs": [
    {
     "data": {
      "text/html": [
       "<div>\n",
       "<style scoped>\n",
       "    .dataframe tbody tr th:only-of-type {\n",
       "        vertical-align: middle;\n",
       "    }\n",
       "\n",
       "    .dataframe tbody tr th {\n",
       "        vertical-align: top;\n",
       "    }\n",
       "\n",
       "    .dataframe thead th {\n",
       "        text-align: right;\n",
       "    }\n",
       "</style>\n",
       "<table border=\"1\" class=\"dataframe\">\n",
       "  <thead>\n",
       "    <tr style=\"text-align: right;\">\n",
       "      <th></th>\n",
       "      <th>id</th>\n",
       "      <th>Insult</th>\n",
       "      <th>Date</th>\n",
       "      <th>Comment</th>\n",
       "      <th>Usage</th>\n",
       "    </tr>\n",
       "  </thead>\n",
       "  <tbody>\n",
       "    <tr>\n",
       "      <th>0</th>\n",
       "      <td>1</td>\n",
       "      <td>0</td>\n",
       "      <td>20120603163526Z</td>\n",
       "      <td>\"like this if you are a tribe fan\"</td>\n",
       "      <td>PrivateTest</td>\n",
       "    </tr>\n",
       "    <tr>\n",
       "      <th>1</th>\n",
       "      <td>2</td>\n",
       "      <td>1</td>\n",
       "      <td>20120531215447Z</td>\n",
       "      <td>\"you're idiot.......................\"</td>\n",
       "      <td>PrivateTest</td>\n",
       "    </tr>\n",
       "    <tr>\n",
       "      <th>2</th>\n",
       "      <td>3</td>\n",
       "      <td>1</td>\n",
       "      <td>20120823164228Z</td>\n",
       "      <td>\"I am a woman Babs, and the only \"war on women...</td>\n",
       "      <td>PrivateTest</td>\n",
       "    </tr>\n",
       "    <tr>\n",
       "      <th>3</th>\n",
       "      <td>4</td>\n",
       "      <td>1</td>\n",
       "      <td>20120826010752Z</td>\n",
       "      <td>\"WOW &amp; YOU BENEFITTED SO MANY WINS THIS YEAR F...</td>\n",
       "      <td>PrivateTest</td>\n",
       "    </tr>\n",
       "    <tr>\n",
       "      <th>4</th>\n",
       "      <td>5</td>\n",
       "      <td>1</td>\n",
       "      <td>20120602223825Z</td>\n",
       "      <td>\"haha green me red you now loser whos winning ...</td>\n",
       "      <td>PrivateTest</td>\n",
       "    </tr>\n",
       "  </tbody>\n",
       "</table>\n",
       "</div>"
      ],
      "text/plain": [
       "   id  Insult             Date  \\\n",
       "0   1       0  20120603163526Z   \n",
       "1   2       1  20120531215447Z   \n",
       "2   3       1  20120823164228Z   \n",
       "3   4       1  20120826010752Z   \n",
       "4   5       1  20120602223825Z   \n",
       "\n",
       "                                             Comment        Usage  \n",
       "0                 \"like this if you are a tribe fan\"  PrivateTest  \n",
       "1              \"you're idiot.......................\"  PrivateTest  \n",
       "2  \"I am a woman Babs, and the only \"war on women...  PrivateTest  \n",
       "3  \"WOW & YOU BENEFITTED SO MANY WINS THIS YEAR F...  PrivateTest  \n",
       "4  \"haha green me red you now loser whos winning ...  PrivateTest  "
      ]
     },
     "execution_count": 3,
     "metadata": {},
     "output_type": "execute_result"
    }
   ],
   "source": [
    "data.head()"
   ]
  },
  {
   "cell_type": "markdown",
   "id": "e96103e5",
   "metadata": {},
   "source": [
    "### Data Extraction"
   ]
  },
  {
   "cell_type": "code",
   "execution_count": 4,
   "id": "19ebc79c",
   "metadata": {},
   "outputs": [
    {
     "name": "stdout",
     "output_type": "stream",
     "text": [
      "0\n"
     ]
    }
   ],
   "source": [
    "labels = data.iloc[:, 0]\n",
    "timestamps = data.iloc[:, 1]\n",
    "comments = data.iloc[:, 2]\n",
    "\n",
    "timestamps = timestamps.fillna(\"Unknown\")\n",
    "\n",
    "unknown_timestamp_count = (timestamps == \"Unknown\").sum()\n",
    "print(unknown_timestamp_count)"
   ]
  },
  {
   "cell_type": "markdown",
   "id": "a5ecbd36",
   "metadata": {},
   "source": [
    "### Parsing the Time Data"
   ]
  },
  {
   "cell_type": "code",
   "execution_count": 5,
   "id": "b7798fd4",
   "metadata": {},
   "outputs": [
    {
     "ename": "ValueError",
     "evalue": "The truth value of a Series is ambiguous. Use a.empty, a.bool(), a.item(), a.any() or a.all().",
     "output_type": "error",
     "traceback": [
      "\u001b[0;31m---------------------------------------------------------------------------\u001b[0m",
      "\u001b[0;31mValueError\u001b[0m                                Traceback (most recent call last)",
      "Cell \u001b[0;32mIn[5], line 2\u001b[0m\n\u001b[1;32m      1\u001b[0m \u001b[38;5;66;03m# Ensure timestamp is treated as a string and not a placeholder\u001b[39;00m\n\u001b[0;32m----> 2\u001b[0m \u001b[38;5;28;01mif\u001b[39;00m timestamps \u001b[38;5;241m!=\u001b[39m \u001b[38;5;124m\"\u001b[39m\u001b[38;5;124mUnknown\u001b[39m\u001b[38;5;124m\"\u001b[39m \u001b[38;5;129;01mand\u001b[39;00m \u001b[38;5;28mstr\u001b[39m(timestamps) \u001b[38;5;241m!=\u001b[39m \u001b[38;5;124m'\u001b[39m\u001b[38;5;124m0\u001b[39m\u001b[38;5;124m'\u001b[39m:\n\u001b[1;32m      3\u001b[0m     parsed_time \u001b[38;5;241m=\u001b[39m datetime\u001b[38;5;241m.\u001b[39mstrptime(\u001b[38;5;28mstr\u001b[39m(timestamps), \u001b[38;5;124m\"\u001b[39m\u001b[38;5;124m%\u001b[39m\u001b[38;5;124mY\u001b[39m\u001b[38;5;124m%\u001b[39m\u001b[38;5;124mm\u001b[39m\u001b[38;5;132;01m%d\u001b[39;00m\u001b[38;5;124m%\u001b[39m\u001b[38;5;124mH\u001b[39m\u001b[38;5;124m%\u001b[39m\u001b[38;5;124mM\u001b[39m\u001b[38;5;124m%\u001b[39m\u001b[38;5;124mSZ\u001b[39m\u001b[38;5;124m\"\u001b[39m)\n\u001b[1;32m      4\u001b[0m \u001b[38;5;28;01melse\u001b[39;00m:\n",
      "File \u001b[0;32m~/anaconda3/lib/python3.10/site-packages/pandas/core/generic.py:1527\u001b[0m, in \u001b[0;36mNDFrame.__nonzero__\u001b[0;34m(self)\u001b[0m\n\u001b[1;32m   1525\u001b[0m \u001b[38;5;129m@final\u001b[39m\n\u001b[1;32m   1526\u001b[0m \u001b[38;5;28;01mdef\u001b[39;00m \u001b[38;5;21m__nonzero__\u001b[39m(\u001b[38;5;28mself\u001b[39m) \u001b[38;5;241m-\u001b[39m\u001b[38;5;241m>\u001b[39m NoReturn:\n\u001b[0;32m-> 1527\u001b[0m     \u001b[38;5;28;01mraise\u001b[39;00m \u001b[38;5;167;01mValueError\u001b[39;00m(\n\u001b[1;32m   1528\u001b[0m         \u001b[38;5;124mf\u001b[39m\u001b[38;5;124m\"\u001b[39m\u001b[38;5;124mThe truth value of a \u001b[39m\u001b[38;5;132;01m{\u001b[39;00m\u001b[38;5;28mtype\u001b[39m(\u001b[38;5;28mself\u001b[39m)\u001b[38;5;241m.\u001b[39m\u001b[38;5;18m__name__\u001b[39m\u001b[38;5;132;01m}\u001b[39;00m\u001b[38;5;124m is ambiguous. \u001b[39m\u001b[38;5;124m\"\u001b[39m\n\u001b[1;32m   1529\u001b[0m         \u001b[38;5;124m\"\u001b[39m\u001b[38;5;124mUse a.empty, a.bool(), a.item(), a.any() or a.all().\u001b[39m\u001b[38;5;124m\"\u001b[39m\n\u001b[1;32m   1530\u001b[0m     )\n",
      "\u001b[0;31mValueError\u001b[0m: The truth value of a Series is ambiguous. Use a.empty, a.bool(), a.item(), a.any() or a.all()."
     ]
    }
   ],
   "source": [
    "# Ensure timestamp is treated as a string and not a placeholder\n",
    "if timestamps != \"Unknown\" and str(timestamps) != '0':\n",
    "    parsed_time = datetime.strptime(str(timestamps), \"%Y%m%d%H%M%SZ\")\n",
    "else:\n",
    "    parsed_time = \"Unknown\""
   ]
  },
  {
   "cell_type": "markdown",
   "id": "8139b5f8",
   "metadata": {},
   "source": [
    "### Data Formatting"
   ]
  },
  {
   "cell_type": "code",
   "execution_count": null,
   "id": "3a5e1d3b",
   "metadata": {},
   "outputs": [],
   "source": [
    "ID = data.iloc[0]['id']\n",
    "Insult = data.iloc[0]['Insult']\n",
    "Date = data.iloc[0]['Date']\n",
    "Comment = data.iloc[0]['Comment']\n",
    "Usage = data.iloc[0]['Usage']\n",
    "\n",
    "formatted_data = pd.DataFrame({'id': [ID],\n",
    "                              'insult': [Insult],\n",
    "                              'date': [Date],\n",
    "                              'comment': [Comment],\n",
    "                              'Usage': [Usage]})"
   ]
  },
  {
   "cell_type": "markdown",
   "id": "8f1f35e1",
   "metadata": {},
   "source": [
    "### Unescaping The Comment"
   ]
  },
  {
   "cell_type": "code",
   "execution_count": null,
   "id": "1a8727c1",
   "metadata": {},
   "outputs": [],
   "source": [
    "unescaped_comment = codecs.decode(Comment, 'unicode_escape')"
   ]
  },
  {
   "cell_type": "code",
   "execution_count": null,
   "id": "40ceea26",
   "metadata": {},
   "outputs": [],
   "source": [
    "print(data.isnull().sum())\n",
    "data.dropna(inplace=True)"
   ]
  },
  {
   "cell_type": "markdown",
   "id": "3ad6037b",
   "metadata": {},
   "source": [
    "#### Duplicates:\n",
    "- Removing any duplicate rows to avoid redundancy."
   ]
  },
  {
   "cell_type": "code",
   "execution_count": null,
   "id": "19a257c4",
   "metadata": {},
   "outputs": [],
   "source": [
    "data.drop_duplicates(inplace=True)"
   ]
  },
  {
   "cell_type": "markdown",
   "id": "6fcd0607",
   "metadata": {},
   "source": [
    "### Text Preprocessing:\n",
    "\n",
    "#### Lowercasing:\n",
    "- Convert all text to lowercase for uniformity."
   ]
  },
  {
   "cell_type": "code",
   "execution_count": null,
   "id": "3dffdad0",
   "metadata": {},
   "outputs": [],
   "source": [
    "nltk.download('stopwords')\n",
    "nltk.download('punkt')\n",
    "\n",
    "formatted_data['comment_tokens'] = formatted_data['comment'].apply(word_tokenize)"
   ]
  },
  {
   "cell_type": "markdown",
   "id": "bb503937",
   "metadata": {},
   "source": [
    "### Data Visualization:\n",
    "\n",
    "#### Distribution of Labels: A bar chart showing how many posts are labeled as insults versus not-insults.\n",
    "#### Word Clouds: \n",
    "- Visual representation of most frequently occurring words in insulting vs. non-insulting posts.\n",
    "#### Time Series Analysis: \n",
    "- Identify if there are specific times when insulting posts are more frequent.\n",
    "#### User Activity: \n",
    "- Understand if a small set of users are responsible for the majority of insulting posts."
   ]
  },
  {
   "cell_type": "markdown",
   "id": "19c27ca0",
   "metadata": {},
   "source": [
    "#### Date Visualization"
   ]
  },
  {
   "cell_type": "code",
   "execution_count": null,
   "id": "d0b0a609",
   "metadata": {},
   "outputs": [],
   "source": [
    "valid_date_data = data[data['Date'] != \"Unknown\"]\n",
    "\n",
    "if not valid_date_data.empty:\n",
    "    valid_date_data['Date'] = pd.to_datetime(valid_date_data['Date'])\n",
    "    valid_date_data.set_index('Date').resample('M').size().plot()\n",
    "    plt.title('Distribution of Comments Over Time')\n",
    "    plt.show()"
   ]
  },
  {
   "cell_type": "markdown",
   "id": "23d0adda",
   "metadata": {},
   "source": [
    "### Distribution of comments over time:"
   ]
  },
  {
   "cell_type": "code",
   "execution_count": null,
   "id": "834d708a",
   "metadata": {},
   "outputs": [],
   "source": [
    "plt.figure(figsize=(1,3))\n",
    "sns.countplot(data['Insult'])\n",
    "plt.title('Distribution of Labels')\n",
    "plt.xlabel('Insults')\n",
    "plt.ylabel('Count')\n",
    "plt.show()"
   ]
  },
  {
   "cell_type": "markdown",
   "id": "216d32ec",
   "metadata": {},
   "source": [
    "### Word Cloud:"
   ]
  },
  {
   "cell_type": "code",
   "execution_count": null,
   "id": "be90d783",
   "metadata": {},
   "outputs": [],
   "source": [
    "wordcloud = WordCloud().generate(Comment)\n",
    "plt.figure(figsize=(10, 5))\n",
    "plt.imshow(wordcloud, interpolation='bilinear')\n",
    "plt.axis('off')\n",
    "plt.title('Word Cloud for Insulting Comments')\n",
    "plt.show()"
   ]
  },
  {
   "cell_type": "markdown",
   "id": "6d740596",
   "metadata": {},
   "source": [
    "#### Display the first few rows of the DataFrame"
   ]
  },
  {
   "cell_type": "code",
   "execution_count": null,
   "id": "1c276435",
   "metadata": {},
   "outputs": [],
   "source": [
    "data.head()"
   ]
  },
  {
   "cell_type": "markdown",
   "id": "36bb0993",
   "metadata": {},
   "source": [
    "#### Getting Info about Data"
   ]
  },
  {
   "cell_type": "code",
   "execution_count": null,
   "id": "94e047bc",
   "metadata": {},
   "outputs": [],
   "source": [
    "print(data.info())"
   ]
  },
  {
   "cell_type": "markdown",
   "id": "69fc48e8",
   "metadata": {},
   "source": [
    "#### Descriptive Statistics"
   ]
  },
  {
   "cell_type": "code",
   "execution_count": null,
   "id": "243b0da9",
   "metadata": {},
   "outputs": [],
   "source": [
    "print(data.describe())"
   ]
  },
  {
   "cell_type": "code",
   "execution_count": null,
   "id": "bb8489a8",
   "metadata": {},
   "outputs": [],
   "source": []
  }
 ],
 "metadata": {
  "kernelspec": {
   "display_name": "Python 3 (ipykernel)",
   "language": "python",
   "name": "python3"
  },
  "language_info": {
   "codemirror_mode": {
    "name": "ipython",
    "version": 3
   },
   "file_extension": ".py",
   "mimetype": "text/x-python",
   "name": "python",
   "nbconvert_exporter": "python",
   "pygments_lexer": "ipython3",
   "version": "3.10.9"
  }
 },
 "nbformat": 4,
 "nbformat_minor": 5
}
