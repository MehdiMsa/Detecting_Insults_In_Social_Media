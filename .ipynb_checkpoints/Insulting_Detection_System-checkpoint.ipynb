{
 "cells": [
  {
   "cell_type": "markdown",
   "id": "5d0f53e7",
   "metadata": {},
   "source": [
    "# Title: Detecting Insults in Social Media"
   ]
  },
  {
   "cell_type": "markdown",
   "id": "871e45a4",
   "metadata": {},
   "source": [
    "### Description\n",
    "\n",
    "\n",
    "This project aims to identify and analyze insulting remarks in social media posts. It leverages various data analytics and machine learning tools to process and analyze social media data, focusing on detecting insults to mitigate online harassment and create a safer, more inclusive online environment."
   ]
  },
  {
   "cell_type": "markdown",
   "id": "0ceaecc0",
   "metadata": {},
   "source": [
    "## Objectives\n",
    "1. Develop a model to accurately identify insulting remarks in social media posts.\n",
    "2. Understand the common patterns and trends in insulting remarks.\n",
    "3. Evaluate the performance of the model and improve it for better accuracy and efficiency.\n"
   ]
  },
  {
   "cell_type": "markdown",
   "id": "fb30a44a",
   "metadata": {},
   "source": [
    "## Progress\n",
    "- [x] Initial setup of the repository and creation of README\n",
    "- [x] Data Collection and Preprocessing\n",
    "- [ ] Exploratory Data Analysis (EDA)\n",
    "- [ ] Feature Engineering\n",
    "- [ ] Model Development\n",
    "- [ ] Model Evaluation\n",
    "- [ ] Deployment (if applicable)\n"
   ]
  },
  {
   "cell_type": "markdown",
   "id": "727a82e9",
   "metadata": {},
   "source": [
    "## Repository\n",
    "[Detecting_Insults_In_Social_Media](https://github.com/MehdiMsa/Detecting_Insults_In_Social_Media)"
   ]
  },
  {
   "cell_type": "markdown",
   "id": "591b6f08",
   "metadata": {},
   "source": [
    "## Contributors\n",
    "- Mehdi M'sallem\n",
    "- Emir Aissa"
   ]
  },
  {
   "cell_type": "markdown",
   "id": "a4657759",
   "metadata": {},
   "source": []
  },
  {
   "cell_type": "code",
   "execution_count": null,
   "id": "2a524521",
   "metadata": {},
   "outputs": [],
   "source": [
    "import pandas as pd\n",
    "import numpy as np\n",
    "import matplotlib.pyplot as plt\n",
    "import seaborn as sns\n",
    "\n",
    "\n",
    "# Load the Dataset\n",
    "data = pd.read_csv('dataset.csv')\n",
    "\n",
    "# Display the first few rows of the DataFrame\n",
    "print(data.head())\n",
    "\n",
    "# Getting Info about Data\n",
    "print(data.info())\n",
    "\n",
    "# Descriptive Statistics\n",
    "print(data.describe())\n",
    "\n",
    "# Visualizing Data Distributions\n",
    "sns.pairplot(data)\n",
    "plt.show()"
   ]
  },
  {
   "cell_type": "code",
   "execution_count": null,
   "id": "2140c602",
   "metadata": {},
   "outputs": [],
   "source": [
    "# Check for missing values\n",
    "print(data.isnull().sum())\n",
    "\n",
    "# Drop missing value\n",
    "data.dropna(inplace=True)"
   ]
  },
  {
   "cell_type": "code",
   "execution_count": null,
   "id": "4cf06509",
   "metadata": {},
   "outputs": [],
   "source": []
  },
  {
   "cell_type": "code",
   "execution_count": null,
   "id": "714677d0",
   "metadata": {},
   "outputs": [],
   "source": []
  }
 ],
 "metadata": {
  "kernelspec": {
   "display_name": "Python 3 (ipykernel)",
   "language": "python",
   "name": "python3"
  },
  "language_info": {
   "codemirror_mode": {
    "name": "ipython",
    "version": 3
   },
   "file_extension": ".py",
   "mimetype": "text/x-python",
   "name": "python",
   "nbconvert_exporter": "python",
   "pygments_lexer": "ipython3",
   "version": "3.10.9"
  }
 },
 "nbformat": 4,
 "nbformat_minor": 5
}
