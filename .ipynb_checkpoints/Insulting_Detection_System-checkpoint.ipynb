{
 "cells": [
  {
   "cell_type": "markdown",
   "id": "5d0f53e7",
   "metadata": {},
   "source": [
    "# Title: Detecting Insults in Social Media"
   ]
  },
  {
   "cell_type": "markdown",
   "id": "871e45a4",
   "metadata": {},
   "source": [
    "### Description\n",
    "\n",
    "\n",
    "This project aims to identify and analyze insulting remarks in social media posts. It leverages various data analytics and machine learning tools to process and analyze social media data, focusing on detecting insults to mitigate online harassment and create a safer, more inclusive online environment."
   ]
  },
  {
   "cell_type": "markdown",
   "id": "38471b96",
   "metadata": {},
   "source": [
    "### Business Understanding:\n",
    "#### Problem Statement:\n",
    "Online platforms are grappling with a significant amount of harmful content, especially insults, which contributes to a toxic environment, causing mental distress and discouraging users from participating in online communities.\n",
    "\n",
    "#### Objective:\n",
    "To create a data-driven model that can automatically detect and potentially filter or flag insulting remarks in social media posts, helping platforms maintain a healthier online atmosphere.\n",
    "\n",
    "#### Impact:\n",
    "An effective model could significantly reduce manual moderation workload, create a safer online space, encourage positive interactions, and retain users who might otherwise leave due to negative experiences."
   ]
  },
  {
   "cell_type": "markdown",
   "id": "4cb26806",
   "metadata": {},
   "source": [
    "### Data Understanding:\n",
    "#### Source:\n",
    "Teams given dataset from kaggle\n",
    "\n",
    "#### Nature of Data:\n",
    "\n",
    "Textual data (social media posts) that may range from short tweets to lengthy blog posts or comments.\n",
    "Possible presence of slang, abbreviations, emojis, and misspellings, which are common in informal communication.\n",
    "Potential Features:\n",
    "\n",
    " **user_id**: An identifier for the user making the post.\n",
    "##### - post_date: The date and time when the post was made.\n",
    "##### - post_content: The actual textual content of the post.\n",
    "##### - insult: A binary indicator (0 or 1) signifying whether the post is insulting or not."
   ]
  },
  {
   "cell_type": "markdown",
   "id": "0ceaecc0",
   "metadata": {},
   "source": [
    "## Objectives\n",
    "1. Develop a model to accurately identify insulting remarks in social media posts.\n",
    "2. Understand the common patterns and trends in insulting remarks.\n",
    "3. Evaluate the performance of the model and improve it for better accuracy and efficiency.\n"
   ]
  },
  {
   "cell_type": "markdown",
   "id": "fb30a44a",
   "metadata": {},
   "source": [
    "## Progress\n",
    "- [x] Initial setup of the repository and creation of README\n",
    "- [x] Data Collection and Preprocessing ( in progress )\n",
    "- [ ] Exploratory Data Analysis (EDA)\n",
    "- [ ] Feature Engineering\n",
    "- [ ] Model Development\n",
    "- [ ] Model Evaluation\n",
    "- [ ] Deployment (if applicable)\n"
   ]
  },
  {
   "cell_type": "markdown",
   "id": "727a82e9",
   "metadata": {},
   "source": [
    "## Repository\n",
    "[Detecting_Insults_In_Social_Media](https://github.com/MehdiMsa/Detecting_Insults_In_Social_Media)"
   ]
  },
  {
   "cell_type": "markdown",
   "id": "591b6f08",
   "metadata": {},
   "source": [
    "## Contributors\n",
    "- Mehdi M'sallem\n",
    "- Emir Aissa"
   ]
  },
  {
   "cell_type": "markdown",
   "id": "306e0040",
   "metadata": {},
   "source": [
    "### Imports & Libraries used:"
   ]
  },
  {
   "cell_type": "code",
   "execution_count": 31,
   "id": "027a66be",
   "metadata": {},
   "outputs": [
    {
     "ename": "ImportError",
     "evalue": "cannot import name 'wordCloud' from 'wordcloud' (/Users/mehdi/anaconda3/lib/python3.10/site-packages/wordcloud/__init__.py)",
     "output_type": "error",
     "traceback": [
      "\u001b[0;31m---------------------------------------------------------------------------\u001b[0m",
      "\u001b[0;31mImportError\u001b[0m                               Traceback (most recent call last)",
      "Cell \u001b[0;32mIn[31], line 1\u001b[0m\n\u001b[0;32m----> 1\u001b[0m \u001b[38;5;28;01mfrom\u001b[39;00m \u001b[38;5;21;01mwordcloud\u001b[39;00m \u001b[38;5;28;01mimport\u001b[39;00m wordCloud, STOPWORDS, ImageColorGenerator\n\u001b[1;32m      2\u001b[0m \u001b[38;5;28;01mfrom\u001b[39;00m \u001b[38;5;21;01mnltk\u001b[39;00m\u001b[38;5;21;01m.\u001b[39;00m\u001b[38;5;21;01mcorpus\u001b[39;00m \u001b[38;5;28;01mimport\u001b[39;00m stopwords\n\u001b[1;32m      3\u001b[0m \u001b[38;5;28;01mfrom\u001b[39;00m \u001b[38;5;21;01mnltk\u001b[39;00m\u001b[38;5;21;01m.\u001b[39;00m\u001b[38;5;21;01mtokenize\u001b[39;00m \u001b[38;5;28;01mimport\u001b[39;00m word_tokenize\n",
      "\u001b[0;31mImportError\u001b[0m: cannot import name 'wordCloud' from 'wordcloud' (/Users/mehdi/anaconda3/lib/python3.10/site-packages/wordcloud/__init__.py)"
     ]
    }
   ],
   "source": [
    "from wordcloud import WordCloud, STOPWORDS, ImageColorGenerator\n",
    "from nltk.corpus import stopwords\n",
    "from nltk.tokenize import word_tokenize\n",
    "import seaborn as sns\n",
    "import pandas as pd\n",
    "import numpy as np\n",
    "import matplotlib.pyplot as plt\n",
    "import codecs\n",
    "import nltk"
   ]
  },
  {
   "cell_type": "markdown",
   "id": "9ea4077c",
   "metadata": {},
   "source": [
    "### Load Data:"
   ]
  },
  {
   "cell_type": "code",
   "execution_count": 16,
   "id": "95705eae",
   "metadata": {},
   "outputs": [
    {
     "name": "stdout",
     "output_type": "stream",
     "text": [
      "Index(['id', 'Insult', 'Date', 'Comment', 'Usage'], dtype='object')\n"
     ]
    }
   ],
   "source": [
    "# Load the Dataset\n",
    "data = pd.read_csv('dataset.csv')\n",
    "\n",
    "# Display the columns used\n",
    "print(data.columns)"
   ]
  },
  {
   "cell_type": "markdown",
   "id": "e96103e5",
   "metadata": {},
   "source": [
    "### Data Extraction First Row"
   ]
  },
  {
   "cell_type": "code",
   "execution_count": 17,
   "id": "19ebc79c",
   "metadata": {},
   "outputs": [],
   "source": [
    "# Extract the first row data\n",
    "original_data = data.iloc[0]\n",
    "\n",
    "# Extracting each field\n",
    "label = original_data[0]\n",
    "\n",
    "# Handle missing time data\n",
    "timestamp = original_data[1] if pd.notna(original_data[1]) else \"Unknown\"\n",
    "\n",
    "comment = original_data[2]"
   ]
  },
  {
   "cell_type": "markdown",
   "id": "a5ecbd36",
   "metadata": {},
   "source": [
    "### Parsing the Time Data"
   ]
  },
  {
   "cell_type": "code",
   "execution_count": 4,
   "id": "b7798fd4",
   "metadata": {},
   "outputs": [],
   "source": [
    "from datetime import datetime\n",
    "\n",
    "# Ensure timestamp is treated as a string and not a placeholder\n",
    "if timestamp != \"Unknown\" and str(timestamp) != '0':\n",
    "    parsed_time = datetime.strptime(str(timestamp), \"%Y%m%d%H%M%SZ\")\n",
    "else:\n",
    "    parsed_time = \"Unknown\""
   ]
  },
  {
   "cell_type": "markdown",
   "id": "8139b5f8",
   "metadata": {},
   "source": [
    "### Data Formatting"
   ]
  },
  {
   "cell_type": "code",
   "execution_count": 5,
   "id": "3a5e1d3b",
   "metadata": {},
   "outputs": [],
   "source": [
    "ID = data.iloc[0]['id']\n",
    "Insult = data.iloc[0]['Insult']\n",
    "Date = data.iloc[0]['Date']\n",
    "Comment = data.iloc[0]['Comment']\n",
    "Usage = data.iloc[0]['Usage']\n",
    "\n",
    "formatted_data = pd.DataFrame({'id': [ID],\n",
    "                              'insult': [Insult],\n",
    "                              'date': [Date],\n",
    "                              'comment': [Comment],\n",
    "                              'Usage': [Usage]})"
   ]
  },
  {
   "cell_type": "markdown",
   "id": "8f1f35e1",
   "metadata": {},
   "source": [
    "### Unescaping The Comment"
   ]
  },
  {
   "cell_type": "code",
   "execution_count": 6,
   "id": "1a8727c1",
   "metadata": {},
   "outputs": [],
   "source": [
    "unescaped_comment = codecs.decode(comment, 'unicode_escape')"
   ]
  },
  {
   "cell_type": "code",
   "execution_count": 7,
   "id": "40ceea26",
   "metadata": {},
   "outputs": [
    {
     "name": "stdout",
     "output_type": "stream",
     "text": [
      "id         0\n",
      "Insult     0\n",
      "Date       0\n",
      "Comment    0\n",
      "Usage      0\n",
      "dtype: int64\n"
     ]
    }
   ],
   "source": [
    "print(data.isnull().sum())\n",
    "data.dropna(inplace=True)"
   ]
  },
  {
   "cell_type": "markdown",
   "id": "3ad6037b",
   "metadata": {},
   "source": [
    "#### Duplicates:\n",
    "- Removing any duplicate rows to avoid redundancy."
   ]
  },
  {
   "cell_type": "code",
   "execution_count": 8,
   "id": "19a257c4",
   "metadata": {},
   "outputs": [],
   "source": [
    "data.drop_duplicates(inplace=True)"
   ]
  },
  {
   "cell_type": "markdown",
   "id": "6fcd0607",
   "metadata": {},
   "source": [
    "### Text Preprocessing:\n",
    "\n",
    "#### Lowercasing:\n",
    "- Convert all text to lowercase for uniformity."
   ]
  },
  {
   "cell_type": "code",
   "execution_count": 20,
   "id": "3dffdad0",
   "metadata": {},
   "outputs": [
    {
     "name": "stderr",
     "output_type": "stream",
     "text": [
      "[nltk_data] Downloading package stopwords to /Users/mehdi/nltk_data...\n",
      "[nltk_data]   Package stopwords is already up-to-date!\n",
      "[nltk_data] Downloading package punkt to /Users/mehdi/nltk_data...\n",
      "[nltk_data]   Package punkt is already up-to-date!\n"
     ]
    }
   ],
   "source": [
    "nltk.download('stopwords')\n",
    "nltk.download('punkt')\n",
    "\n",
    "formatted_data['comment_tokens'] = formatted_data['comment'].apply(word_tokenize)"
   ]
  },
  {
   "cell_type": "markdown",
   "id": "bb503937",
   "metadata": {},
   "source": [
    "### Data Visualization:\n",
    "\n",
    "#### Distribution of Labels: A bar chart showing how many posts are labeled as insults versus not-insults.\n",
    "#### Word Clouds: \n",
    "- Visual representation of most frequently occurring words in insulting vs. non-insulting posts.\n",
    "#### Time Series Analysis: \n",
    "- Identify if there are specific times when insulting posts are more frequent.\n",
    "#### User Activity: \n",
    "- Understand if a small set of users are responsible for the majority of insulting posts."
   ]
  },
  {
   "cell_type": "markdown",
   "id": "3946e881",
   "metadata": {},
   "source": [
    "#### Date Visualization"
   ]
  },
  {
   "cell_type": "code",
   "execution_count": 23,
   "id": "d0b0a609",
   "metadata": {},
   "outputs": [
    {
     "data": {
      "image/png": "[encoded data removed]",
      "text/plain": [
       "<Figure size 640x480 with 1 Axes>"
      ]
     },
     "metadata": {},
     "output_type": "display_data"
    }
   ],
   "source": [
    "valid_date_data = data[data['Date'] != \"Unknown\"]\n",
    "\n",
    "if not valid_date_data.empty:\n",
    "    valid_date_data['Date'] = pd.to_datetime(valid_date_data['Date'])\n",
    "    valid_date_data.set_index('Date').resample('M').size().plot()\n",
    "    plt.title('Distribution of Comments Over Time')\n",
    "    plt.show()"
   ]
  },
  {
   "cell_type": "markdown",
   "id": "23d0adda",
   "metadata": {},
   "source": [
    "### Distribution of comments over time:"
   ]
  },
  {
   "cell_type": "code",
   "execution_count": 12,
   "id": "834d708a",
   "metadata": {},
   "outputs": [
    {
     "data": {
      "image/png": "[encoded data removed]",
      "text/plain": [
       "<Figure size 100x300 with 1 Axes>"
      ]
     },
     "metadata": {},
     "output_type": "display_data"
    }
   ],
   "source": [
    "plt.figure(figsize=(1,3))\n",
    "sns.countplot(data['Insult'])\n",
    "plt.title('Distribution of Labels')\n",
    "plt.xlabel('Insults')\n",
    "plt.ylabel('Count')\n",
    "plt.show()"
   ]
  },
  {
   "cell_type": "markdown",
   "id": "216d32ec",
   "metadata": {},
   "source": [
    "### Word Cloud:"
   ]
  },
  {
   "cell_type": "code",
   "execution_count": null,
   "id": "be90d783",
   "metadata": {},
   "outputs": [],
   "source": [
    "plt.figure(figsize=(10, 5))\n",
    "plt.imshow(WordCloud, interpolation='bilinear')\n",
    "plt.axis('off')\n",
    "plt.title('Word Cloud for Insulting Comments')\n",
    "plt.show()"
   ]
  },
  {
   "cell_type": "markdown",
   "id": "6d740596",
   "metadata": {},
   "source": [
    "#### Display the first few rows of the DataFrame"
   ]
  },
  {
   "cell_type": "code",
   "execution_count": 13,
   "id": "1c276435",
   "metadata": {},
   "outputs": [
    {
     "name": "stdout",
     "output_type": "stream",
     "text": [
      "   id  Insult             Date  \\\n",
      "0   1       0  20120603163526Z   \n",
      "1   2       1  20120531215447Z   \n",
      "2   3       1  20120823164228Z   \n",
      "3   4       1  20120826010752Z   \n",
      "4   5       1  20120602223825Z   \n",
      "\n",
      "                                             Comment        Usage  \n",
      "0                 \"like this if you are a tribe fan\"  PrivateTest  \n",
      "1              \"you're idiot.......................\"  PrivateTest  \n",
      "2  \"I am a woman Babs, and the only \"war on women...  PrivateTest  \n",
      "3  \"WOW & YOU BENEFITTED SO MANY WINS THIS YEAR F...  PrivateTest  \n",
      "4  \"haha green me red you now loser whos winning ...  PrivateTest  \n"
     ]
    }
   ],
   "source": [
    "print(data.head())"
   ]
  },
  {
   "cell_type": "markdown",
   "id": "36bb0993",
   "metadata": {},
   "source": [
    "#### Getting Info about Data"
   ]
  },
  {
   "cell_type": "code",
   "execution_count": 14,
   "id": "94e047bc",
   "metadata": {},
   "outputs": [
    {
     "name": "stdout",
     "output_type": "stream",
     "text": [
      "<class 'pandas.core.frame.DataFrame'>\n",
      "Int64Index: 2235 entries, 0 to 2234\n",
      "Data columns (total 5 columns):\n",
      " #   Column   Non-Null Count  Dtype \n",
      "---  ------   --------------  ----- \n",
      " 0   id       2235 non-null   int64 \n",
      " 1   Insult   2235 non-null   int64 \n",
      " 2   Date     2235 non-null   object\n",
      " 3   Comment  2235 non-null   object\n",
      " 4   Usage    2235 non-null   object\n",
      "dtypes: int64(2), object(3)\n",
      "memory usage: 169.3+ KB\n",
      "None\n"
     ]
    }
   ],
   "source": [
    "print(data.info())"
   ]
  },
  {
   "cell_type": "markdown",
   "id": "69fc48e8",
   "metadata": {},
   "source": [
    "#### Descriptive Statistics"
   ]
  },
  {
   "cell_type": "code",
   "execution_count": 34,
   "id": "243b0da9",
   "metadata": {},
   "outputs": [
    {
     "name": "stdout",
     "output_type": "stream",
     "text": [
      "                id       Insult\n",
      "count  2235.000000  2235.000000\n",
      "mean   1118.000000     0.481879\n",
      "std     645.333247     0.499783\n",
      "min       1.000000     0.000000\n",
      "25%     559.500000     0.000000\n",
      "50%    1118.000000     0.000000\n",
      "75%    1676.500000     1.000000\n",
      "max    2235.000000     1.000000\n"
     ]
    }
   ],
   "source": [
    "print(data.describe())"
   ]
  },
  {
   "cell_type": "code",
   "execution_count": null,
   "id": "020abf11",
   "metadata": {},
   "outputs": [],
   "source": []
  }
 ],
 "metadata": {
  "kernelspec": {
   "display_name": "Python 3 (ipykernel)",
   "language": "python",
   "name": "python3"
  },
  "language_info": {
   "codemirror_mode": {
    "name": "ipython",
    "version": 3
   },
   "file_extension": ".py",
   "mimetype": "text/x-python",
   "name": "python",
   "nbconvert_exporter": "python",
   "pygments_lexer": "ipython3",
   "version": "3.10.9"
  }
 },
 "nbformat": 4,
 "nbformat_minor": 5
}
