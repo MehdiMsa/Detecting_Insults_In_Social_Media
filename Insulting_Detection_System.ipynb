{
 "cells": [
  {
   "cell_type": "code",
   "execution_count": null,
   "id": "1535d6f0",
   "metadata": {},
   "outputs": [],
   "source": [
    "# Title: Detecting Insults in Social Media"
   ]
  },
  {
   "cell_type": "code",
   "execution_count": null,
   "id": "b0d34c51",
   "metadata": {},
   "outputs": [],
   "source": [
    "# Description\n",
    "\"\"\"\n",
    "This project aims to detect insults in social media posts \n",
    "to mitigate online harassment and create a safer online environment.\n",
    "\"\"\""
   ]
  },
  {
   "cell_type": "code",
   "execution_count": null,
   "id": "c07348e3",
   "metadata": {},
   "outputs": [],
   "source": [
    "import pandas as pd\n",
    "import numpy as np\n",
    "import matplotlib.pyplot as plt\n",
    "import seaborn as sns\n",
    "\n",
    "\n",
    "# Load the Dataset\n",
    "data = pd.read_csv('dataset.csv')\n",
    "\n",
    "# Display the first few rows of the DataFrame\n",
    "print(data.head())\n",
    "\n",
    "# Getting Info about Data\n",
    "print(data.info())\n",
    "\n",
    "# Descriptive Statistics\n",
    "print(data.describe())\n",
    "\n",
    "# Visualizing Data Distributions\n",
    "sns.pairplot(data)\n",
    "plt.show()"
   ]
  },
  {
   "cell_type": "code",
   "execution_count": null,
   "id": "7be5173d",
   "metadata": {},
   "outputs": [],
   "source": [
    "# Describing each column\n",
    "\"\"\"\n",
    "- column_1: This column represents...\n",
    "- column_2: This column represents...\n",
    "...\n",
    "\"\"\""
   ]
  }
 ],
 "metadata": {
  "kernelspec": {
   "display_name": "Python 3 (ipykernel)",
   "language": "python",
   "name": "python3"
  },
  "language_info": {
   "codemirror_mode": {
    "name": "ipython",
    "version": 3
   },
   "file_extension": ".py",
   "mimetype": "text/x-python",
   "name": "python",
   "nbconvert_exporter": "python",
   "pygments_lexer": "ipython3",
   "version": "3.10.9"
  }
 },
 "nbformat": 4,
 "nbformat_minor": 5
}
